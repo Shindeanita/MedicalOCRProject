{
 "cells": [
  {
   "cell_type": "code",
   "execution_count": 110,
   "id": "f58e09b6",
   "metadata": {},
   "outputs": [],
   "source": [
    "#First I need to convert Pdf into image file for that I will use the pdf2image pakage, convert_from_path function\n",
    "\n",
    "from pdf2image import convert_from_path\n",
    "\n",
    "pages = convert_from_path(r'docs/patient_details/pd_2.pdf',poppler_path=r'C:\\poppler-22.04.0\\Library\\bin')\n",
    "pages[0].show()"
   ]
  },
  {
   "cell_type": "markdown",
   "id": "406f3f3a",
   "metadata": {},
   "source": [
    "#Image is too light so can not extract the details properly, so we apply some image process tools\n",
    "#and then try to convert image to text\n",
    "for that follow the step\n",
    "\n",
    "1) we convert image into gray image, b'cuse if any one scan the color image\n",
    "2) we resize the image for propper convertion image to text\n",
    "3) After image resize we apply adaptive threshold for better computer vision\n",
    "4) return the processed image\n"
   ]
  },
  {
   "cell_type": "code",
   "execution_count": 132,
   "id": "dc472655",
   "metadata": {},
   "outputs": [],
   "source": [
    "\n",
    "\n",
    "import numpy as np\n",
    "import cv2\n",
    "from PIL import Image\n",
    "\n",
    "def process_image(img):\n",
    "    gray = cv2.cvtColor(np.array(img),cv2.COLOR_BGR2GRAY)\n",
    "  #  img = cv2.imread(\"dark_image.jpg\",flags=cv2.IMREAD_GRAYSCALE)\n",
    "    resized = cv2.resize(gray,None,fx=1.5,fy=1.5,interpolation = cv2.INTER_LINEAR)\n",
    "   # processed_image = cv2.threshold(gray,150,255,cv2.THRESH_BINARY)\n",
    "    processed_image = cv2.adaptiveThreshold(resized,255,cv2.ADAPTIVE_THRESH_GAUSSIAN_C,cv2.THRESH_BINARY,51,11)\n",
    "    return processed_image\n",
    "    "
   ]
  },
  {
   "cell_type": "code",
   "execution_count": 133,
   "id": "a9c07121",
   "metadata": {},
   "outputs": [
    {
     "data": {
      "text/plain": [
       "array([[255, 255, 255, ..., 255, 255, 255],\n",
       "       [255, 255, 255, ..., 255, 255, 255],\n",
       "       [255, 255, 255, ..., 255, 255, 255],\n",
       "       ...,\n",
       "       [255, 255, 255, ..., 255, 255, 255],\n",
       "       [255, 255, 255, ..., 255, 255, 255],\n",
       "       [255, 255, 255, ..., 255, 255, 255]], dtype=uint8)"
      ]
     },
     "execution_count": 133,
     "metadata": {},
     "output_type": "execute_result"
    }
   ],
   "source": [
    "processed_img = process_image(pages[0])\n",
    "processed_img"
   ]
  },
  {
   "cell_type": "code",
   "execution_count": 134,
   "id": "345c8a06",
   "metadata": {
    "scrolled": false
   },
   "outputs": [
    {
     "name": "stdout",
     "output_type": "stream",
     "text": [
      "17/12/2020\n",
      "\n",
      "Patient Medical Record\n",
      "\n",
      "Patient Information Birth Date\n",
      "\n",
      "Jerry Lucas May 2 1998\n",
      "\n",
      "(279) 920-8204 . Weight:\n",
      "\n",
      "4218 Wheeler Ridge Dr 57\n",
      "\n",
      "Buffalo, New York, 14201 Height:\n",
      "\n",
      "United States gnt.\n",
      "170\n",
      "\n",
      "In Case of Emergency |\n",
      "eee\n",
      "\n",
      "Joe Lucas . 4218 Wheeler Ridge Dr\n",
      "Buffalo, New York, 14201\n",
      "Home phone United States\n",
      "Work phone\n",
      "\n",
      "General Medical History\n",
      "\n",
      "Chicken Pox (Varicelia): Measles: .\n",
      "\n",
      "IMMUNE NOT IMMUNE\n",
      "\n",
      "Have you had the Hepatitis B vaccination?\n",
      "\n",
      "‘Yes:\n",
      "\n",
      "| List any Medical Problems (asthma, seizures, headaches):\n",
      "N/A\n",
      "\n",
      "7?\n",
      "v\n",
      "\n",
      "\n"
     ]
    }
   ],
   "source": [
    "import pytesseract\n",
    "pytesseract.pytesseract.tesseract_cmd = r'C:\\Program Files\\Tesseract-OCR\\tesseract.exe'\n",
    "text=pytesseract.image_to_string(processed_img,lang='eng')\n",
    "print(text)"
   ]
  },
  {
   "cell_type": "code",
   "execution_count": 150,
   "id": "cc4f6f29",
   "metadata": {},
   "outputs": [],
   "source": [
    "doc_text ='''17/12/2020\n",
    "\n",
    "Patient Medical Record\n",
    "\n",
    "Patient Information Birth Date\n",
    "\n",
    "Kathy Crawford May 6 1972\n",
    "\n",
    "(737) 988-0851 Weight’\n",
    "\n",
    "9264 Ash Dr 95\n",
    "\n",
    "New York City, 10005 '\n",
    "\n",
    "United States Height:\n",
    "190\n",
    "\n",
    "In Case of Emergency\n",
    "ee J\n",
    "Simeone Crawford 9266 Ash Dr\n",
    "New York City, New York, 10005\n",
    "Home phone United States\n",
    "(990) 375-4621\n",
    "Work phone\n",
    "Genera! Medical History\n",
    "nn ee\n",
    "Chicken Pox (Varicella): Measies:\n",
    "IMMUNE\n",
    "\n",
    "IMMUNE\n",
    "Have you had the Hepatitis B vaccination?\n",
    "\n",
    "No\n",
    "\n",
    "List any Medical Problems (asthma, seizures, headaches):\n",
    "\n",
    "Migraine'''"
   ]
  },
  {
   "cell_type": "code",
   "execution_count": 141,
   "id": "343355af",
   "metadata": {},
   "outputs": [],
   "source": [
    "doc_text_jerry='''Patient Medical Record\n",
    "\n",
    "Patient Information Birth Date\n",
    "\n",
    "Jerry Lucas May 2 1998\n",
    "\n",
    "(279) 920-8204 Weight:\n",
    "\n",
    "4218 Wheeler Ridge Dr 57\n",
    "\n",
    "Buffalo, New York, 14201 Height:\n",
    "\n",
    "United States gnt\n",
    "170\n",
    "\n",
    "In Case of Emergency\n",
    "\n",
    "- eee\n",
    "\n",
    "Joe Lucas . 4218 Wheeler Ridge Dr\n",
    "Buffalo, New York, 14201\n",
    "Home phone United States\n",
    "Work phone\n",
    "\n",
    "General Medical History\n",
    "\n",
    "Chicken Pox (Varicelia): Measles: ..\n",
    "\n",
    "IMMUNE NOT IMMUNE\n",
    "\n",
    "Have you had the Hepatitis B vaccination?\n",
    "\n",
    "Yes\n",
    "\n",
    "| List any Medical Problems (asthma, seizures, headaches):\n",
    "N/A\n",
    "\n",
    "7?\n",
    "v\n",
    "\n",
    "17/12/2020'''"
   ]
  },
  {
   "cell_type": "markdown",
   "id": "063eb65f",
   "metadata": {},
   "source": [
    "Now we use the regular expression and fetch the required filed from text\n",
    "name,phone,hepitise , anymedical problem"
   ]
  },
  {
   "cell_type": "markdown",
   "id": "f45f32e4",
   "metadata": {},
   "source": [
    "## Extract Name"
   ]
  },
  {
   "cell_type": "code",
   "execution_count": 116,
   "id": "be75080e",
   "metadata": {},
   "outputs": [
    {
     "name": "stdout",
     "output_type": "stream",
     "text": [
      " \n",
      "\n",
      "Kathy Crawford May 6 1972\n",
      "\n",
      "\n",
      "Birth Date\n",
      "\n",
      "Jerry Lucas May 2 1998\n"
     ]
    }
   ],
   "source": [
    "import re\n",
    "\n",
    "pattern = 'Patient Information(.*?)\\(\\d{3}\\)'\n",
    "match = re.findall(pattern,doc_text,flags=re.DOTALL)\n",
    "\n",
    "name = match[0].replace('Birth Date','')\n",
    "name.strip()\n",
    "\n",
    "print(name)\n",
    "\n",
    "match2 = re.findall(pattern,doc_text_jerry,flags=re.DOTALL)\n",
    "print(match2[0].strip())"
   ]
  },
  {
   "cell_type": "code",
   "execution_count": 117,
   "id": "b2d9dbbd",
   "metadata": {},
   "outputs": [
    {
     "name": "stdout",
     "output_type": "stream",
     "text": [
      " \n",
      "\n",
      "Kathy Crawford May 6 1972\n",
      "\n",
      "\n",
      "May 6 1972\n"
     ]
    }
   ],
   "source": [
    "print(name)\n",
    "pattern = '((Jan|Feb|Mar|Apr|May|Jun|Jul|Aug|Sep|Oct|Nov|Dec)[ \\d]+)'\n",
    "matches = re.findall(pattern,name)\n",
    "date= matches[0][0]\n",
    "print(date)"
   ]
  },
  {
   "cell_type": "code",
   "execution_count": 118,
   "id": "d2b33ba2",
   "metadata": {},
   "outputs": [
    {
     "name": "stdout",
     "output_type": "stream",
     "text": [
      "Kathy Crawford\n"
     ]
    }
   ],
   "source": [
    "name = name.replace(date,\" \")\n",
    "name = name.strip()\n",
    "print(name)"
   ]
  },
  {
   "cell_type": "code",
   "execution_count": 119,
   "id": "86839816",
   "metadata": {},
   "outputs": [],
   "source": [
    "def remove_noise_from_name(name):\n",
    "    pattern = '((Jan|Feb|Mar|Apr|May|Jun|Jul|Aug|Sep|Oct|Nov|Dec)[ \\d]+)'\n",
    "    matches = re.findall(pattern,name)\n",
    "    date= matches[0][0]\n",
    "    name =name.replace(date,\" \").strip()\n",
    "    \n",
    "    return name"
   ]
  },
  {
   "cell_type": "code",
   "execution_count": 120,
   "id": "7ca80264",
   "metadata": {},
   "outputs": [
    {
     "name": "stdout",
     "output_type": "stream",
     "text": [
      "Jerry Lucas\n"
     ]
    }
   ],
   "source": [
    "text = \"Jerry Lucas May 2 1998\"\n",
    "name = remove_noise_from_name(text)\n",
    "print(name)"
   ]
  },
  {
   "cell_type": "markdown",
   "id": "215a56eb",
   "metadata": {},
   "source": [
    "## Extract Phone number"
   ]
  },
  {
   "cell_type": "code",
   "execution_count": 124,
   "id": "647bc439",
   "metadata": {},
   "outputs": [
    {
     "name": "stdout",
     "output_type": "stream",
     "text": [
      "(737) 988-0851\n",
      "(279) 920-8204\n"
     ]
    }
   ],
   "source": [
    "pattern = 'Patient Information.*?(\\(\\d{3}\\) \\d{3}-\\d{4})'\n",
    "match = re.findall(pattern,doc_text,re.DOTALL)\n",
    "print(match[0])\n",
    "match2 = re.findall(pattern,doc_text_jerry,re.DOTALL)\n",
    "print(match2[0])"
   ]
  },
  {
   "cell_type": "markdown",
   "id": "fd6255e8",
   "metadata": {},
   "source": [
    "##Extract Vaccination"
   ]
  },
  {
   "cell_type": "code",
   "execution_count": 144,
   "id": "6b9d098a",
   "metadata": {},
   "outputs": [
    {
     "name": "stdout",
     "output_type": "stream",
     "text": [
      "No\n"
     ]
    },
    {
     "data": {
      "text/plain": [
       "['Yes']"
      ]
     },
     "execution_count": 144,
     "metadata": {},
     "output_type": "execute_result"
    }
   ],
   "source": [
    "pattern = 'Have you had the Hepatitis B vaccination\\?.*(Yes|No)'\n",
    "match = re.findall(pattern,doc_text,flags=re.DOTALL)\n",
    "print(match[0].strip())\n",
    "\n",
    "match2 = re.findall(pattern,doc_text_jerry,flags=re.DOTALL)\n",
    "match2"
   ]
  },
  {
   "cell_type": "markdown",
   "id": "cb4aad13",
   "metadata": {},
   "source": [
    "## Extract medical Problem"
   ]
  },
  {
   "cell_type": "code",
   "execution_count": 152,
   "id": "20ed42e6",
   "metadata": {},
   "outputs": [
    {
     "data": {
      "text/plain": [
       "'Migraine'"
      ]
     },
     "execution_count": 152,
     "metadata": {},
     "output_type": "execute_result"
    }
   ],
   "source": [
    "pattern = 'List any Medical Problems \\(asthma, seizures, headaches\\)\\:(.*)'\n",
    "match = re.findall(pattern,doc_text,flags=re.DOTALL)\n",
    "match[0].strip()\n"
   ]
  },
  {
   "cell_type": "code",
   "execution_count": 65,
   "id": "c4689686",
   "metadata": {},
   "outputs": [
    {
     "name": "stdout",
     "output_type": "stream",
     "text": [
      "Hi this is   \n",
      "\n",
      "Migraine =\n"
     ]
    }
   ],
   "source": [
    "print(f'Hi this is  ',match[0] ,'=')"
   ]
  },
  {
   "cell_type": "code",
   "execution_count": 106,
   "id": "01ab01ad",
   "metadata": {},
   "outputs": [
    {
     "name": "stdout",
     "output_type": "stream",
     "text": [
      "Yes\n",
      "\n",
      "    \n"
     ]
    }
   ],
   "source": [
    "text = 'Yes\\n\\n    |'\n",
    "t = text.strip('\\n,|')\n",
    "print(t)"
   ]
  }
 ],
 "metadata": {
  "kernelspec": {
   "display_name": "Python 3 (ipykernel)",
   "language": "python",
   "name": "python3"
  },
  "language_info": {
   "codemirror_mode": {
    "name": "ipython",
    "version": 3
   },
   "file_extension": ".py",
   "mimetype": "text/x-python",
   "name": "python",
   "nbconvert_exporter": "python",
   "pygments_lexer": "ipython3",
   "version": "3.10.4"
  }
 },
 "nbformat": 4,
 "nbformat_minor": 5
}
