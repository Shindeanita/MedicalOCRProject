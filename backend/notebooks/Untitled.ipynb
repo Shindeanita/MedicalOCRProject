{
 "cells": [
  {
   "cell_type": "code",
   "execution_count": 3,
   "id": "474b7701",
   "metadata": {},
   "outputs": [
    {
     "name": "stdout",
     "output_type": "stream",
     "text": [
      "a\n"
     ]
    }
   ],
   "source": [
    "str1 = \"anita\"\n",
    "str1[:-1]\n",
    "print(str1[-1])"
   ]
  },
  {
   "cell_type": "code",
   "execution_count": 5,
   "id": "69cd09ce",
   "metadata": {},
   "outputs": [
    {
     "name": "stdout",
     "output_type": "stream",
     "text": [
      "sics\n"
     ]
    }
   ],
   "source": [
    "string = \"CodeBasics\"\n",
    "print(string[-4:])"
   ]
  },
  {
   "cell_type": "code",
   "execution_count": 6,
   "id": "ccffdc83",
   "metadata": {},
   "outputs": [
    {
     "data": {
      "text/plain": [
       "['IBM', 'US', '100', '5.4']"
      ]
     },
     "execution_count": 6,
     "metadata": {},
     "output_type": "execute_result"
    }
   ],
   "source": [
    "s=\"IBM|US|100|5.4\"\n",
    "s.split('|')"
   ]
  },
  {
   "cell_type": "code",
   "execution_count": 9,
   "id": "e13faf89",
   "metadata": {},
   "outputs": [
    {
     "ename": "AttributeError",
     "evalue": "'str' object has no attribute 'seperate'",
     "output_type": "error",
     "traceback": [
      "\u001b[1;31m---------------------------------------------------------------------------\u001b[0m",
      "\u001b[1;31mAttributeError\u001b[0m                            Traceback (most recent call last)",
      "Input \u001b[1;32mIn [9]\u001b[0m, in \u001b[0;36m<cell line: 1>\u001b[1;34m()\u001b[0m\n\u001b[1;32m----> 1\u001b[0m \u001b[43ms\u001b[49m\u001b[38;5;241;43m.\u001b[39;49m\u001b[43mseperate\u001b[49m(\u001b[38;5;124m'\u001b[39m\u001b[38;5;124m|\u001b[39m\u001b[38;5;124m'\u001b[39m)\n",
      "\u001b[1;31mAttributeError\u001b[0m: 'str' object has no attribute 'seperate'"
     ]
    }
   ],
   "source": [
    "s.seperate('|')"
   ]
  },
  {
   "cell_type": "code",
   "execution_count": 11,
   "id": "3f3b0e88",
   "metadata": {},
   "outputs": [
    {
     "data": {
      "text/plain": [
       "'P/E : 4.166666666666667'"
      ]
     },
     "execution_count": 11,
     "metadata": {},
     "output_type": "execute_result"
    }
   ],
   "source": [
    "price = 100\n",
    "eps = 24\n",
    "\n",
    "f\"P/E : {price/eps}\""
   ]
  },
  {
   "cell_type": "code",
   "execution_count": 12,
   "id": "4a050803",
   "metadata": {},
   "outputs": [
    {
     "data": {
      "text/plain": [
       "'P/E : f{price}/f{eps}'"
      ]
     },
     "execution_count": 12,
     "metadata": {},
     "output_type": "execute_result"
    }
   ],
   "source": [
    "\"P/E : f{price}/f{eps}\""
   ]
  },
  {
   "cell_type": "code",
   "execution_count": 13,
   "id": "5b4e207f",
   "metadata": {},
   "outputs": [
    {
     "data": {
      "text/plain": [
       "8"
      ]
     },
     "execution_count": 13,
     "metadata": {},
     "output_type": "execute_result"
    }
   ],
   "source": [
    "2**3"
   ]
  },
  {
   "cell_type": "code",
   "execution_count": 34,
   "id": "dca38516",
   "metadata": {},
   "outputs": [
    {
     "name": "stdout",
     "output_type": "stream",
     "text": [
      "aditi\n",
      "america\n"
     ]
    }
   ],
   "source": [
    "students_list = {\"name\": \"Tom\", \"country\": \"india\",\"name\":\"aditi\",\"country\":\"america\"}\n",
    "for student in students_list:\n",
    "    if students_list[student]==\"india\":\n",
    "        continue\n",
    "    print(students_list[student])"
   ]
  },
  {
   "cell_type": "code",
   "execution_count": 43,
   "id": "5ced37df",
   "metadata": {},
   "outputs": [
    {
     "name": "stdout",
     "output_type": "stream",
     "text": [
      "I earned 5 million $ last year but this year it is only 0.5 million $\n"
     ]
    }
   ],
   "source": [
    "s = \"I earned 5 million dollars last year but this year it is only 0.5 million $\"\n",
    "s = s.replace(\"dollars\", \"$\")\n",
    "print(s)"
   ]
  },
  {
   "cell_type": "code",
   "execution_count": 45,
   "id": "bf31f053",
   "metadata": {},
   "outputs": [
    {
     "name": "stdout",
     "output_type": "stream",
     "text": [
      "yes\n"
     ]
    },
    {
     "ename": "AttributeError",
     "evalue": "'str' object has no attribute 'substring'",
     "output_type": "error",
     "traceback": [
      "\u001b[1;31m---------------------------------------------------------------------------\u001b[0m",
      "\u001b[1;31mAttributeError\u001b[0m                            Traceback (most recent call last)",
      "Input \u001b[1;32mIn [45]\u001b[0m, in \u001b[0;36m<cell line: 5>\u001b[1;34m()\u001b[0m\n\u001b[0;32m      2\u001b[0m \u001b[38;5;28;01mif\u001b[39;00m \u001b[38;5;124m\"\u001b[39m\u001b[38;5;124mtelsa\u001b[39m\u001b[38;5;124m\"\u001b[39m \u001b[38;5;129;01min\u001b[39;00m pra\u001b[38;5;241m.\u001b[39mlower():\n\u001b[0;32m      3\u001b[0m     \u001b[38;5;28mprint\u001b[39m(\u001b[38;5;124m\"\u001b[39m\u001b[38;5;124myes\u001b[39m\u001b[38;5;124m\"\u001b[39m)\n\u001b[1;32m----> 5\u001b[0m \u001b[38;5;28;01mif\u001b[39;00m \u001b[43mpra\u001b[49m\u001b[38;5;241;43m.\u001b[39;49m\u001b[43mlower\u001b[49m\u001b[43m(\u001b[49m\u001b[43m)\u001b[49m\u001b[38;5;241;43m.\u001b[39;49m\u001b[43msubstring\u001b[49m(\u001b[38;5;124m\"\u001b[39m\u001b[38;5;124mtelsa\u001b[39m\u001b[38;5;124m\"\u001b[39m):\n\u001b[0;32m      6\u001b[0m     \u001b[38;5;28mprint\u001b[39m(\u001b[38;5;124m\"\u001b[39m\u001b[38;5;124myes\u001b[39m\u001b[38;5;124m\"\u001b[39m)\n",
      "\u001b[1;31mAttributeError\u001b[0m: 'str' object has no attribute 'substring'"
     ]
    }
   ],
   "source": [
    "pra = \"this is the telsa, this is the Telsa, this is the TELSA\" \n",
    "if \"telsa\" in pra.lower():\n",
    "    print(\"yes\")\n",
    "    \n",
    "if pra.lower().substring(\"telsa\"):\n",
    "    print(\"yes\")"
   ]
  },
  {
   "cell_type": "code",
   "execution_count": 53,
   "id": "05b944fa",
   "metadata": {},
   "outputs": [
    {
     "name": "stdout",
     "output_type": "stream",
     "text": [
      "discount\n"
     ]
    }
   ],
   "source": [
    "medical_bill = 70\n",
    "if medical_bill >=10 or medical_bill <=50:\n",
    "    print(\"discount\")"
   ]
  },
  {
   "cell_type": "code",
   "execution_count": null,
   "id": "e0ff8744",
   "metadata": {},
   "outputs": [],
   "source": []
  }
 ],
 "metadata": {
  "kernelspec": {
   "display_name": "Python 3 (ipykernel)",
   "language": "python",
   "name": "python3"
  },
  "language_info": {
   "codemirror_mode": {
    "name": "ipython",
    "version": 3
   },
   "file_extension": ".py",
   "mimetype": "text/x-python",
   "name": "python",
   "nbconvert_exporter": "python",
   "pygments_lexer": "ipython3",
   "version": "3.10.4"
  }
 },
 "nbformat": 4,
 "nbformat_minor": 5
}
