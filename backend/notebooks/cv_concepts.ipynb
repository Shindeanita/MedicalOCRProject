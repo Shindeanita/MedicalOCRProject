{
 "cells": [
  {
   "cell_type": "code",
   "execution_count": 1,
   "id": "2f27e45b",
   "metadata": {},
   "outputs": [],
   "source": [
    "import cv2\n",
    "from PIL import Image"
   ]
  },
  {
   "cell_type": "code",
   "execution_count": 8,
   "id": "d4c10806",
   "metadata": {},
   "outputs": [],
   "source": [
    "img = cv2.imread(\"dark_image.jpg\",flags=cv2.IMREAD_GRAYSCALE)"
   ]
  },
  {
   "cell_type": "code",
   "execution_count": 7,
   "id": "05fc9448",
   "metadata": {},
   "outputs": [],
   "source": [
    "_,new_image = cv2.threshold(img,150,255,cv2.THRESH_BINARY)\n",
    "Image.fromarray(new_image).show()"
   ]
  },
  {
   "cell_type": "code",
   "execution_count": 10,
   "id": "085bd970",
   "metadata": {},
   "outputs": [],
   "source": [
    "new_image = cv2.adaptiveThreshold(img,255,cv2.ADAPTIVE_THRESH_GAUSSIAN_C,cv2.THRESH_BINARY,61,11)\n",
    "Image.fromarray(new_image).show()"
   ]
  },
  {
   "cell_type": "code",
   "execution_count": null,
   "id": "5667cb9a",
   "metadata": {},
   "outputs": [],
   "source": []
  }
 ],
 "metadata": {
  "kernelspec": {
   "display_name": "Python 3 (ipykernel)",
   "language": "python",
   "name": "python3"
  },
  "language_info": {
   "codemirror_mode": {
    "name": "ipython",
    "version": 3
   },
   "file_extension": ".py",
   "mimetype": "text/x-python",
   "name": "python",
   "nbconvert_exporter": "python",
   "pygments_lexer": "ipython3",
   "version": "3.10.4"
  }
 },
 "nbformat": 4,
 "nbformat_minor": 5
}
